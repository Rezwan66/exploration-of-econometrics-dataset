{
 "cells": [
  {
   "cell_type": "markdown",
   "id": "de8fa607",
   "metadata": {},
   "source": [
    "# Documentation of Tasks\n",
    "\n",
    "---\n",
    "\n",
    "1. Reformatted column widths\n",
    "2. Edited all text size to same size, all font family to calibri, all text align to bottom align\n",
    "3. Read the raw dataset and campaign lookup tab into Jupyter notebook using Pandas.\n",
    "4. Checked for and dropped missing values and missing columns in both datasets.\n",
    "5. Changed data type of the 'Impressions' column of the raw dataset into int64.\n",
    "6. Extracting week number from date to aggregate the sum and mean values of the columns by week.\n",
    "7. Focussing on and plotting weekly time-series charts for total weekly costs and impressions.\n",
    "8. Dropped the Campaign and Daily Information columns to find that the aggregate data produce the same results.\n",
    "9. Calculating relevant metrics for the entire dataset (sum, mean) at a top-line level.\n",
    "10. Analyzing additional metrics at the top-line aggregated level and drilling down into a granular level\n",
    "11. Slicing the data based on other relevant dimensions.\n"
   ]
  },
  {
   "cell_type": "code",
   "execution_count": 1,
   "id": "f52404ad",
   "metadata": {},
   "outputs": [],
   "source": [
    "import numpy as np\n",
    "import pandas as pd\n",
    "import matplotlib.pyplot as plt\n",
    "import seaborn as sns"
   ]
  },
  {
   "cell_type": "markdown",
   "id": "f5dbd0a7",
   "metadata": {},
   "source": [
    "### 3. Importing the dataset"
   ]
  },
  {
   "cell_type": "code",
   "execution_count": 2,
   "id": "778a64a5",
   "metadata": {},
   "outputs": [
    {
     "name": "stdout",
     "output_type": "stream",
     "text": [
      "Raw Dataset:\n",
      "        Date                         Campaign   Cost  Impressions\n",
      "0 2015-02-04                    Branded Broad   8.49       4315.0\n",
      "1 2015-02-04                Competitors Broad  23.25       5407.0\n",
      "2 2015-02-04                 X_B | UK | Exact   3.60       2203.0\n",
      "3 2015-02-04  X_LT | UK | Competitors | Exact   5.30       2328.0\n",
      "4 2015-02-05                Competitors Broad   4.56       3804.0\n",
      "\n",
      "Campaign Lookup:\n",
      "                   Campaign  Channel Brand/Generic         Type  Unnamed: 4\n",
      "0                [UK] - GDN  Display       Generic  Prospecting         NaN\n",
      "1              [UK] - Video  Display       Generic  Prospecting         NaN\n",
      "2  [UK] - Video Remarketing  Display       Generic  Remarketing         NaN\n",
      "3          GDN: UK - Hybrid  Display       Generic  Prospecting         NaN\n",
      "4   LT: UK Dis Comp_Context  Display       Generic  Prospecting         NaN\n"
     ]
    }
   ],
   "source": [
    "# Specify the file path to your Excel workbook\n",
    "file_path = 'C:\\\\Users\\\\Shaikh Rezwan\\\\PythonTests\\\\econometrics_data.xlsx'\n",
    "\n",
    "# Read the raw dataset tab into a dataframe\n",
    "raw_df = pd.read_excel(file_path, sheet_name='Raw_data')\n",
    "\n",
    "# Read the campaign lookup tab into a dataframe\n",
    "campaign_df = pd.read_excel(file_path, sheet_name='Campaign_lookup')\n",
    "\n",
    "# Print the first few rows of each dataframe to verify the data\n",
    "print(\"Raw Dataset:\")\n",
    "print(raw_df.head())\n",
    "print(\"\\nCampaign Lookup:\")\n",
    "print(campaign_df.head())"
   ]
  },
  {
   "cell_type": "markdown",
   "id": "45cf2448",
   "metadata": {},
   "source": [
    "### 4. Checking for missing values in both datasets"
   ]
  },
  {
   "cell_type": "code",
   "execution_count": 3,
   "id": "6be8c5d3",
   "metadata": {},
   "outputs": [
    {
     "name": "stdout",
     "output_type": "stream",
     "text": [
      "Raw Dataset:\n",
      " Date            0\n",
      "Campaign        0\n",
      "Cost            0\n",
      "Impressions    27\n",
      "dtype: int64\n",
      "\n",
      "Campaign Lookup:\n",
      " Campaign            0\n",
      "Channel             0\n",
      "Brand/Generic       0\n",
      "Type                0\n",
      "Unnamed: 4       1158\n",
      "dtype: int64\n"
     ]
    }
   ],
   "source": [
    "print(\"Raw Dataset:\\n\", raw_df.isna().sum())\n",
    "print(\"\\nCampaign Lookup:\\n\", campaign_df.isna().sum())"
   ]
  },
  {
   "cell_type": "code",
   "execution_count": 4,
   "id": "6c98d853",
   "metadata": {},
   "outputs": [
    {
     "name": "stdout",
     "output_type": "stream",
     "text": [
      "['Date', 'Campaign', 'Cost', 'Impressions']\n",
      "['Campaign', 'Channel', 'Brand/Generic', 'Type', 'Unnamed: 4']\n"
     ]
    }
   ],
   "source": [
    "print(raw_df.columns.tolist())\n",
    "print(campaign_df.columns.tolist())"
   ]
  },
  {
   "cell_type": "markdown",
   "id": "be76a9e9",
   "metadata": {},
   "source": [
    "##### For the Raw Dataset: The 'Impressions' column has 27 missing values which we will remove for now by dropping the rows, since they are relatively few and do not significantly impact our analysis.\n",
    "\n",
    "##### For the Campaign Lookup dataset: There is a 'Unnamed: 4' column which has a high percentage of missing values but looks like it is not crucial for our analysis, so we will remove that column."
   ]
  },
  {
   "cell_type": "code",
   "execution_count": 5,
   "id": "2cda7a54",
   "metadata": {},
   "outputs": [],
   "source": [
    "raw_df_cleaned = raw_df.dropna()\n",
    "campaign_df_cleaned = campaign_df.drop('Unnamed: 4', axis=1)"
   ]
  },
  {
   "cell_type": "code",
   "execution_count": 6,
   "id": "841468bb",
   "metadata": {},
   "outputs": [
    {
     "name": "stdout",
     "output_type": "stream",
     "text": [
      "Raw Dataset:\n",
      " Date           0\n",
      "Campaign       0\n",
      "Cost           0\n",
      "Impressions    0\n",
      "dtype: int64\n",
      "\n",
      "Campaign Lookup:\n",
      " Campaign         0\n",
      "Channel          0\n",
      "Brand/Generic    0\n",
      "Type             0\n",
      "dtype: int64\n"
     ]
    }
   ],
   "source": [
    "print(\"Raw Dataset:\\n\", raw_df_cleaned.isna().sum())\n",
    "print(\"\\nCampaign Lookup:\\n\", campaign_df_cleaned.isna().sum())"
   ]
  },
  {
   "cell_type": "code",
   "execution_count": 7,
   "id": "044cef14",
   "metadata": {},
   "outputs": [
    {
     "name": "stdout",
     "output_type": "stream",
     "text": [
      "Raw Cleaned Dataset:\n",
      "        Date                         Campaign   Cost  Impressions\n",
      "0 2015-02-04                    Branded Broad   8.49       4315.0\n",
      "1 2015-02-04                Competitors Broad  23.25       5407.0\n",
      "2 2015-02-04                 X_B | UK | Exact   3.60       2203.0\n",
      "3 2015-02-04  X_LT | UK | Competitors | Exact   5.30       2328.0\n",
      "4 2015-02-05                Competitors Broad   4.56       3804.0\n",
      "\n",
      "Campaign Lookup Cleaned:\n",
      "                   Campaign  Channel Brand/Generic         Type\n",
      "0                [UK] - GDN  Display       Generic  Prospecting\n",
      "1              [UK] - Video  Display       Generic  Prospecting\n",
      "2  [UK] - Video Remarketing  Display       Generic  Remarketing\n",
      "3          GDN: UK - Hybrid  Display       Generic  Prospecting\n",
      "4   LT: UK Dis Comp_Context  Display       Generic  Prospecting\n"
     ]
    }
   ],
   "source": [
    "# Print the cleaned datasets again\n",
    "print(\"Raw Cleaned Dataset:\")\n",
    "print(raw_df_cleaned.head())\n",
    "print(\"\\nCampaign Lookup Cleaned:\")\n",
    "print(campaign_df_cleaned.head())"
   ]
  },
  {
   "cell_type": "markdown",
   "id": "b9f962d0",
   "metadata": {},
   "source": [
    "### 5. Changed data type"
   ]
  },
  {
   "cell_type": "code",
   "execution_count": 8,
   "id": "0760ae8c",
   "metadata": {},
   "outputs": [
    {
     "name": "stdout",
     "output_type": "stream",
     "text": [
      "Date           datetime64[ns]\n",
      "Campaign               object\n",
      "Cost                  float64\n",
      "Impressions             int64\n",
      "dtype: object\n",
      "\n",
      "Raw Cleaned Dataset:\n",
      "         Date                         Campaign   Cost  Impressions\n",
      "0 2015-02-04                    Branded Broad   8.49         4315\n",
      "1 2015-02-04                Competitors Broad  23.25         5407\n",
      "2 2015-02-04                 X_B | UK | Exact   3.60         2203\n",
      "3 2015-02-04  X_LT | UK | Competitors | Exact   5.30         2328\n",
      "4 2015-02-05                Competitors Broad   4.56         3804\n"
     ]
    },
    {
     "name": "stderr",
     "output_type": "stream",
     "text": [
      "<ipython-input-8-6aa4a5421863>:3: SettingWithCopyWarning: \n",
      "A value is trying to be set on a copy of a slice from a DataFrame.\n",
      "Try using .loc[row_indexer,col_indexer] = value instead\n",
      "\n",
      "See the caveats in the documentation: https://pandas.pydata.org/pandas-docs/stable/user_guide/indexing.html#returning-a-view-versus-a-copy\n",
      "  raw_df_cleaned['Impressions'] = raw_df_cleaned['Impressions'].astype('int64')\n"
     ]
    }
   ],
   "source": [
    "# The 'Impressions' column can be turned into an integer\n",
    "\n",
    "raw_df_cleaned['Impressions'] = raw_df_cleaned['Impressions'].astype('int64')\n",
    "print(raw_df_cleaned.dtypes)\n",
    "print('\\nRaw Cleaned Dataset:\\n',raw_df_cleaned.head())"
   ]
  },
  {
   "cell_type": "markdown",
   "id": "aa7ab224",
   "metadata": {},
   "source": [
    "### 6. Now let us look at the date column of the raw dataset, since we need to aggregate and analyze the data by Week"
   ]
  },
  {
   "cell_type": "code",
   "execution_count": 9,
   "id": "6ffb8723",
   "metadata": {},
   "outputs": [
    {
     "data": {
      "text/plain": [
       "Date           datetime64[ns]\n",
       "Campaign               object\n",
       "Cost                  float64\n",
       "Impressions             int64\n",
       "dtype: object"
      ]
     },
     "execution_count": 9,
     "metadata": {},
     "output_type": "execute_result"
    }
   ],
   "source": [
    "raw_df_cleaned.dtypes"
   ]
  },
  {
   "cell_type": "markdown",
   "id": "9dc1aa2a",
   "metadata": {},
   "source": [
    "##### Extracting the week number from the date"
   ]
  },
  {
   "cell_type": "code",
   "execution_count": 10,
   "id": "d808946d",
   "metadata": {},
   "outputs": [
    {
     "name": "stdout",
     "output_type": "stream",
     "text": [
      "            Date                                           Campaign    Cost  \\\n",
      "0     2015-02-04                                      Branded Broad    8.49   \n",
      "1     2015-02-04                                  Competitors Broad   23.25   \n",
      "2     2015-02-04                                   X_B | UK | Exact    3.60   \n",
      "3     2015-02-04                    X_LT | UK | Competitors | Exact    5.30   \n",
      "4     2015-02-05                                  Competitors Broad    4.56   \n",
      "...          ...                                                ...     ...   \n",
      "75836 2019-05-19    Croud_UK_P_Reach-Top-Funnel_Product-Information   24.98   \n",
      "75837 2019-05-19         Croud_UK_P_Traffic-Middle-Funnel_Campaigns  301.75   \n",
      "75838 2019-05-19              Croud_UK_R_ATC-Lower-Funnel_Always-on  406.28   \n",
      "75839 2019-05-19  Croud_UK_R_Conversions-Bottom-Funnel_DPA_Alway...  503.36   \n",
      "75840 2019-05-19         Croud_UK_R_Traffic-Middle-Funnel_Campaigns  300.96   \n",
      "\n",
      "       Impressions WeekNumber  \n",
      "0             4315         05  \n",
      "1             5407         05  \n",
      "2             2203         05  \n",
      "3             2328         05  \n",
      "4             3804         05  \n",
      "...            ...        ...  \n",
      "75836        50135         20  \n",
      "75837       141816         20  \n",
      "75838        36488         20  \n",
      "75839        35033         20  \n",
      "75840        55599         20  \n",
      "\n",
      "[75814 rows x 5 columns]\n"
     ]
    },
    {
     "name": "stderr",
     "output_type": "stream",
     "text": [
      "<ipython-input-10-9cbb2d51746b>:1: SettingWithCopyWarning: \n",
      "A value is trying to be set on a copy of a slice from a DataFrame.\n",
      "Try using .loc[row_indexer,col_indexer] = value instead\n",
      "\n",
      "See the caveats in the documentation: https://pandas.pydata.org/pandas-docs/stable/user_guide/indexing.html#returning-a-view-versus-a-copy\n",
      "  raw_df_cleaned['WeekNumber'] = raw_df_cleaned['Date'].dt.strftime('%U')\n"
     ]
    }
   ],
   "source": [
    "raw_df_cleaned['WeekNumber'] = raw_df_cleaned['Date'].dt.strftime('%U')\n",
    "print(raw_df_cleaned)"
   ]
  },
  {
   "cell_type": "code",
   "execution_count": 11,
   "id": "2036e512",
   "metadata": {},
   "outputs": [
    {
     "name": "stdout",
     "output_type": "stream",
     "text": [
      "                 Cost  Impressions\n",
      "WeekNumber                        \n",
      "00          143342.40      7398671\n",
      "01          298808.76     18150924\n",
      "02          318693.13     21326069\n",
      "03          257761.30     16979317\n",
      "04          269050.17     15485333\n",
      "05          273131.58     16415142\n",
      "06          256753.83     17623503\n",
      "07          217002.63     19258966\n",
      "08          270302.53     20905754\n",
      "09          267580.27     21371285\n",
      "10          275895.03     21442155\n",
      "11          250002.64     17954624\n",
      "12          232455.95     17129955\n",
      "13          262666.48     18275069\n",
      "14          416468.65     30253230\n",
      "15          358325.15     25596340\n",
      "16          353911.26     26873111\n",
      "17          356054.94     26495986\n",
      "18          266797.54     21821328\n",
      "19          213556.76     19232499\n",
      "20          229250.06     22885211\n",
      "21          298864.02     41782929\n",
      "22          247499.75     27495593\n",
      "23          178975.17     10154795\n",
      "24          174749.52     10020433\n",
      "25          176145.54      8725782\n",
      "26          173772.82     10527851\n",
      "27          183127.84      9469376\n",
      "28          191398.68      9784527\n",
      "29          165554.38      9378206\n",
      "30          145797.60      8763195\n",
      "31          152622.57     10234169\n",
      "32          173104.56     10883518\n",
      "33          194664.94     11147536\n",
      "34          194489.49     11767132\n",
      "35          190659.72     12337677\n",
      "36          163426.04     10199196\n",
      "37          181942.65     11022796\n",
      "38          179659.31     11026355\n",
      "39          184588.87     11568871\n",
      "40          166166.71     10774176\n",
      "41          167889.64     11330331\n",
      "42          188859.28     12446655\n",
      "43          195273.12     13171704\n",
      "44          184989.16     13072199\n",
      "45          145160.26     11105795\n",
      "46          174683.41     11328904\n",
      "47          173200.04     11323337\n",
      "48          131621.96      8961910\n",
      "49          106096.61      8786337\n",
      "50           99041.25      8101454\n",
      "51          161302.63      9822814\n",
      "52          101950.75      6031420\n",
      "53             139.63         7450\n"
     ]
    }
   ],
   "source": [
    "# Raw data summed by week\n",
    "raw_df_sum = raw_df_cleaned.groupby('WeekNumber').sum()\n",
    "#raw_df_mean = raw_df_cleaned.groupby('WeekNumber').mean()\n",
    "print(raw_df_sum)"
   ]
  },
  {
   "cell_type": "markdown",
   "id": "f1b07f54",
   "metadata": {},
   "source": [
    "### 7. Focusing on Weekly Time-Series Charts:"
   ]
  },
  {
   "cell_type": "code",
   "execution_count": 12,
   "id": "6f3702c5",
   "metadata": {},
   "outputs": [],
   "source": [
    "# For plotting, let us first reset the week number from an index to a column\n",
    "raw_df_sum.reset_index(inplace=True)\n",
    "#raw_df_mean.reset_index(inplace=True)"
   ]
  },
  {
   "cell_type": "code",
   "execution_count": 13,
   "id": "b98eeec8",
   "metadata": {},
   "outputs": [
    {
     "name": "stdout",
     "output_type": "stream",
     "text": [
      "   WeekNumber       Cost  Impressions\n",
      "0          00  143342.40      7398671\n",
      "1          01  298808.76     18150924\n",
      "2          02  318693.13     21326069\n",
      "3          03  257761.30     16979317\n",
      "4          04  269050.17     15485333\n",
      "5          05  273131.58     16415142\n",
      "6          06  256753.83     17623503\n",
      "7          07  217002.63     19258966\n",
      "8          08  270302.53     20905754\n",
      "9          09  267580.27     21371285\n",
      "10         10  275895.03     21442155\n",
      "11         11  250002.64     17954624\n",
      "12         12  232455.95     17129955\n",
      "13         13  262666.48     18275069\n",
      "14         14  416468.65     30253230\n",
      "15         15  358325.15     25596340\n",
      "16         16  353911.26     26873111\n",
      "17         17  356054.94     26495986\n",
      "18         18  266797.54     21821328\n",
      "19         19  213556.76     19232499\n",
      "20         20  229250.06     22885211\n",
      "21         21  298864.02     41782929\n",
      "22         22  247499.75     27495593\n",
      "23         23  178975.17     10154795\n",
      "24         24  174749.52     10020433\n",
      "25         25  176145.54      8725782\n",
      "26         26  173772.82     10527851\n",
      "27         27  183127.84      9469376\n",
      "28         28  191398.68      9784527\n",
      "29         29  165554.38      9378206\n",
      "30         30  145797.60      8763195\n",
      "31         31  152622.57     10234169\n",
      "32         32  173104.56     10883518\n",
      "33         33  194664.94     11147536\n",
      "34         34  194489.49     11767132\n",
      "35         35  190659.72     12337677\n",
      "36         36  163426.04     10199196\n",
      "37         37  181942.65     11022796\n",
      "38         38  179659.31     11026355\n",
      "39         39  184588.87     11568871\n",
      "40         40  166166.71     10774176\n",
      "41         41  167889.64     11330331\n",
      "42         42  188859.28     12446655\n",
      "43         43  195273.12     13171704\n",
      "44         44  184989.16     13072199\n",
      "45         45  145160.26     11105795\n",
      "46         46  174683.41     11328904\n",
      "47         47  173200.04     11323337\n",
      "48         48  131621.96      8961910\n",
      "49         49  106096.61      8786337\n",
      "50         50   99041.25      8101454\n",
      "51         51  161302.63      9822814\n",
      "52         52  101950.75      6031420\n",
      "53         53     139.63         7450\n"
     ]
    }
   ],
   "source": [
    "print(raw_df_sum)"
   ]
  },
  {
   "cell_type": "markdown",
   "id": "74d1ff47",
   "metadata": {},
   "source": [
    "##### Line Chart for Cost"
   ]
  },
  {
   "cell_type": "code",
   "execution_count": 14,
   "id": "10b24d31",
   "metadata": {},
   "outputs": [
    {
     "data": {
      "image/png": "[encoded data removed]",
      "text/plain": [
       "<Figure size 1152x576 with 1 Axes>"
      ]
     },
     "metadata": {
      "needs_background": "light"
     },
     "output_type": "display_data"
    }
   ],
   "source": [
    "plt.figure(figsize=(16, 8))\n",
    "# Create a line chart for 'Cost'\n",
    "plt.plot(raw_df_sum['WeekNumber'], raw_df_sum['Cost'], color='red', marker='o')\n",
    "\n",
    "# Customize the chart\n",
    "plt.xlabel('Week Number')\n",
    "plt.ylabel('Cost')\n",
    "plt.title('Weekly Costs')\n",
    "\n",
    "plt.yticks(rotation=45)\n",
    "# Show the chart\n",
    "plt.grid(True)\n",
    "plt.show()"
   ]
  },
  {
   "cell_type": "markdown",
   "id": "f9dc22ed",
   "metadata": {},
   "source": [
    "##### Bar Chart for Impressions"
   ]
  },
  {
   "cell_type": "code",
   "execution_count": 20,
   "id": "c92fea02",
   "metadata": {},
   "outputs": [
    {
     "data": {
      "image/png": "[encoded data removed]",
      "text/plain": [
       "<Figure size 1152x576 with 1 Axes>"
      ]
     },
     "metadata": {
      "needs_background": "light"
     },
     "output_type": "display_data"
    }
   ],
   "source": [
    "plt.figure(figsize=(16, 8))\n",
    "#sns.set_palette(\"flare\")\n",
    "\n",
    "# Create a bar chart for 'Impressions'\n",
    "sns.barplot(data=raw_df_sum, x='WeekNumber', y='Impressions', palette='flare')\n",
    "\n",
    "# Customize the chart\n",
    "plt.xlabel('Week Number')\n",
    "plt.ylabel('Impressions')\n",
    "plt.title('Impressions per Week')\n",
    "\n",
    "# Show the chart\n",
    "plt.show()"
   ]
  },
  {
   "cell_type": "markdown",
   "id": "8892cc5c",
   "metadata": {},
   "source": [
    "### 8. Ignoring Campaign and Daily Information"
   ]
  },
  {
   "cell_type": "code",
   "execution_count": 21,
   "id": "8701a625",
   "metadata": {},
   "outputs": [
    {
     "data": {
      "text/html": [
       "<div>\n",
       "<style scoped>\n",
       "    .dataframe tbody tr th:only-of-type {\n",
       "        vertical-align: middle;\n",
       "    }\n",
       "\n",
       "    .dataframe tbody tr th {\n",
       "        vertical-align: top;\n",
       "    }\n",
       "\n",
       "    .dataframe thead th {\n",
       "        text-align: right;\n",
       "    }\n",
       "</style>\n",
       "<table border=\"1\" class=\"dataframe\">\n",
       "  <thead>\n",
       "    <tr style=\"text-align: right;\">\n",
       "      <th></th>\n",
       "      <th>Date</th>\n",
       "      <th>Campaign</th>\n",
       "      <th>Cost</th>\n",
       "      <th>Impressions</th>\n",
       "      <th>WeekNumber</th>\n",
       "    </tr>\n",
       "  </thead>\n",
       "  <tbody>\n",
       "    <tr>\n",
       "      <th>0</th>\n",
       "      <td>2015-02-04</td>\n",
       "      <td>Branded Broad</td>\n",
       "      <td>8.49</td>\n",
       "      <td>4315</td>\n",
       "      <td>05</td>\n",
       "    </tr>\n",
       "    <tr>\n",
       "      <th>1</th>\n",
       "      <td>2015-02-04</td>\n",
       "      <td>Competitors Broad</td>\n",
       "      <td>23.25</td>\n",
       "      <td>5407</td>\n",
       "      <td>05</td>\n",
       "    </tr>\n",
       "    <tr>\n",
       "      <th>2</th>\n",
       "      <td>2015-02-04</td>\n",
       "      <td>X_B | UK | Exact</td>\n",
       "      <td>3.60</td>\n",
       "      <td>2203</td>\n",
       "      <td>05</td>\n",
       "    </tr>\n",
       "    <tr>\n",
       "      <th>3</th>\n",
       "      <td>2015-02-04</td>\n",
       "      <td>X_LT | UK | Competitors | Exact</td>\n",
       "      <td>5.30</td>\n",
       "      <td>2328</td>\n",
       "      <td>05</td>\n",
       "    </tr>\n",
       "    <tr>\n",
       "      <th>4</th>\n",
       "      <td>2015-02-05</td>\n",
       "      <td>Competitors Broad</td>\n",
       "      <td>4.56</td>\n",
       "      <td>3804</td>\n",
       "      <td>05</td>\n",
       "    </tr>\n",
       "    <tr>\n",
       "      <th>...</th>\n",
       "      <td>...</td>\n",
       "      <td>...</td>\n",
       "      <td>...</td>\n",
       "      <td>...</td>\n",
       "      <td>...</td>\n",
       "    </tr>\n",
       "    <tr>\n",
       "      <th>75836</th>\n",
       "      <td>2019-05-19</td>\n",
       "      <td>Croud_UK_P_Reach-Top-Funnel_Product-Information</td>\n",
       "      <td>24.98</td>\n",
       "      <td>50135</td>\n",
       "      <td>20</td>\n",
       "    </tr>\n",
       "    <tr>\n",
       "      <th>75837</th>\n",
       "      <td>2019-05-19</td>\n",
       "      <td>Croud_UK_P_Traffic-Middle-Funnel_Campaigns</td>\n",
       "      <td>301.75</td>\n",
       "      <td>141816</td>\n",
       "      <td>20</td>\n",
       "    </tr>\n",
       "    <tr>\n",
       "      <th>75838</th>\n",
       "      <td>2019-05-19</td>\n",
       "      <td>Croud_UK_R_ATC-Lower-Funnel_Always-on</td>\n",
       "      <td>406.28</td>\n",
       "      <td>36488</td>\n",
       "      <td>20</td>\n",
       "    </tr>\n",
       "    <tr>\n",
       "      <th>75839</th>\n",
       "      <td>2019-05-19</td>\n",
       "      <td>Croud_UK_R_Conversions-Bottom-Funnel_DPA_Alway...</td>\n",
       "      <td>503.36</td>\n",
       "      <td>35033</td>\n",
       "      <td>20</td>\n",
       "    </tr>\n",
       "    <tr>\n",
       "      <th>75840</th>\n",
       "      <td>2019-05-19</td>\n",
       "      <td>Croud_UK_R_Traffic-Middle-Funnel_Campaigns</td>\n",
       "      <td>300.96</td>\n",
       "      <td>55599</td>\n",
       "      <td>20</td>\n",
       "    </tr>\n",
       "  </tbody>\n",
       "</table>\n",
       "<p>75814 rows × 5 columns</p>\n",
       "</div>"
      ],
      "text/plain": [
       "            Date                                           Campaign    Cost  \\\n",
       "0     2015-02-04                                      Branded Broad    8.49   \n",
       "1     2015-02-04                                  Competitors Broad   23.25   \n",
       "2     2015-02-04                                   X_B | UK | Exact    3.60   \n",
       "3     2015-02-04                    X_LT | UK | Competitors | Exact    5.30   \n",
       "4     2015-02-05                                  Competitors Broad    4.56   \n",
       "...          ...                                                ...     ...   \n",
       "75836 2019-05-19    Croud_UK_P_Reach-Top-Funnel_Product-Information   24.98   \n",
       "75837 2019-05-19         Croud_UK_P_Traffic-Middle-Funnel_Campaigns  301.75   \n",
       "75838 2019-05-19              Croud_UK_R_ATC-Lower-Funnel_Always-on  406.28   \n",
       "75839 2019-05-19  Croud_UK_R_Conversions-Bottom-Funnel_DPA_Alway...  503.36   \n",
       "75840 2019-05-19         Croud_UK_R_Traffic-Middle-Funnel_Campaigns  300.96   \n",
       "\n",
       "       Impressions WeekNumber  \n",
       "0             4315         05  \n",
       "1             5407         05  \n",
       "2             2203         05  \n",
       "3             2328         05  \n",
       "4             3804         05  \n",
       "...            ...        ...  \n",
       "75836        50135         20  \n",
       "75837       141816         20  \n",
       "75838        36488         20  \n",
       "75839        35033         20  \n",
       "75840        55599         20  \n",
       "\n",
       "[75814 rows x 5 columns]"
      ]
     },
     "execution_count": 21,
     "metadata": {},
     "output_type": "execute_result"
    }
   ],
   "source": [
    "raw_df_cleaned"
   ]
  },
  {
   "cell_type": "code",
   "execution_count": 22,
   "id": "3260a8d1",
   "metadata": {},
   "outputs": [],
   "source": [
    "# Let us drop the campaign column from the table since it is irrelevant for our analysis at the moment\n",
    "# Drop the \"Campaign\" column from the DataFrame\n",
    "raw_df_cleaned_campaign = raw_df_cleaned.drop(\"Campaign\", axis=1)\n",
    "\n",
    "# We can also drop the daily date information\n",
    "raw_df_cleaned_campaign_date = raw_df_cleaned_campaign.drop(\"Date\", axis=1)"
   ]
  },
  {
   "cell_type": "code",
   "execution_count": 23,
   "id": "25f9c0f1",
   "metadata": {},
   "outputs": [
    {
     "data": {
      "text/html": [
       "<div>\n",
       "<style scoped>\n",
       "    .dataframe tbody tr th:only-of-type {\n",
       "        vertical-align: middle;\n",
       "    }\n",
       "\n",
       "    .dataframe tbody tr th {\n",
       "        vertical-align: top;\n",
       "    }\n",
       "\n",
       "    .dataframe thead th {\n",
       "        text-align: right;\n",
       "    }\n",
       "</style>\n",
       "<table border=\"1\" class=\"dataframe\">\n",
       "  <thead>\n",
       "    <tr style=\"text-align: right;\">\n",
       "      <th></th>\n",
       "      <th>Cost</th>\n",
       "      <th>Impressions</th>\n",
       "      <th>WeekNumber</th>\n",
       "    </tr>\n",
       "  </thead>\n",
       "  <tbody>\n",
       "    <tr>\n",
       "      <th>0</th>\n",
       "      <td>8.49</td>\n",
       "      <td>4315</td>\n",
       "      <td>05</td>\n",
       "    </tr>\n",
       "    <tr>\n",
       "      <th>1</th>\n",
       "      <td>23.25</td>\n",
       "      <td>5407</td>\n",
       "      <td>05</td>\n",
       "    </tr>\n",
       "    <tr>\n",
       "      <th>2</th>\n",
       "      <td>3.60</td>\n",
       "      <td>2203</td>\n",
       "      <td>05</td>\n",
       "    </tr>\n",
       "    <tr>\n",
       "      <th>3</th>\n",
       "      <td>5.30</td>\n",
       "      <td>2328</td>\n",
       "      <td>05</td>\n",
       "    </tr>\n",
       "    <tr>\n",
       "      <th>4</th>\n",
       "      <td>4.56</td>\n",
       "      <td>3804</td>\n",
       "      <td>05</td>\n",
       "    </tr>\n",
       "    <tr>\n",
       "      <th>...</th>\n",
       "      <td>...</td>\n",
       "      <td>...</td>\n",
       "      <td>...</td>\n",
       "    </tr>\n",
       "    <tr>\n",
       "      <th>75836</th>\n",
       "      <td>24.98</td>\n",
       "      <td>50135</td>\n",
       "      <td>20</td>\n",
       "    </tr>\n",
       "    <tr>\n",
       "      <th>75837</th>\n",
       "      <td>301.75</td>\n",
       "      <td>141816</td>\n",
       "      <td>20</td>\n",
       "    </tr>\n",
       "    <tr>\n",
       "      <th>75838</th>\n",
       "      <td>406.28</td>\n",
       "      <td>36488</td>\n",
       "      <td>20</td>\n",
       "    </tr>\n",
       "    <tr>\n",
       "      <th>75839</th>\n",
       "      <td>503.36</td>\n",
       "      <td>35033</td>\n",
       "      <td>20</td>\n",
       "    </tr>\n",
       "    <tr>\n",
       "      <th>75840</th>\n",
       "      <td>300.96</td>\n",
       "      <td>55599</td>\n",
       "      <td>20</td>\n",
       "    </tr>\n",
       "  </tbody>\n",
       "</table>\n",
       "<p>75814 rows × 3 columns</p>\n",
       "</div>"
      ],
      "text/plain": [
       "         Cost  Impressions WeekNumber\n",
       "0        8.49         4315         05\n",
       "1       23.25         5407         05\n",
       "2        3.60         2203         05\n",
       "3        5.30         2328         05\n",
       "4        4.56         3804         05\n",
       "...       ...          ...        ...\n",
       "75836   24.98        50135         20\n",
       "75837  301.75       141816         20\n",
       "75838  406.28        36488         20\n",
       "75839  503.36        35033         20\n",
       "75840  300.96        55599         20\n",
       "\n",
       "[75814 rows x 3 columns]"
      ]
     },
     "execution_count": 23,
     "metadata": {},
     "output_type": "execute_result"
    }
   ],
   "source": [
    "raw_df_cleaned_campaign_date"
   ]
  },
  {
   "cell_type": "code",
   "execution_count": 24,
   "id": "f0ad0b98",
   "metadata": {},
   "outputs": [],
   "source": [
    "weekly_data = raw_df_cleaned_campaign_date.groupby('WeekNumber').agg({'Cost': 'sum', 'Impressions': 'sum'})"
   ]
  },
  {
   "cell_type": "code",
   "execution_count": 29,
   "id": "f5f30b49",
   "metadata": {},
   "outputs": [
    {
     "data": {
      "image/png": "[encoded data removed]",
      "text/plain": [
       "<Figure size 1152x576 with 1 Axes>"
      ]
     },
     "metadata": {
      "needs_background": "light"
     },
     "output_type": "display_data"
    }
   ],
   "source": [
    "plt.figure(figsize=(16, 8))\n",
    "plt.plot(weekly_data.index, weekly_data['Cost'], marker='o')\n",
    "plt.xlabel('Week Number')\n",
    "plt.ylabel('Cost')\n",
    "plt.title('Cost over Weeks')\n",
    "plt.grid(True)\n",
    "plt.show()"
   ]
  },
  {
   "cell_type": "markdown",
   "id": "119ca5f2",
   "metadata": {},
   "source": [
    "They produce the same plot, without the Campaign and Date column, so it is not correlated."
   ]
  },
  {
   "cell_type": "markdown",
   "id": "8c0628ac",
   "metadata": {},
   "source": [
    "### 9. Calculating relevant metrics for the entire dataset at a top-line level"
   ]
  },
  {
   "cell_type": "code",
   "execution_count": 30,
   "id": "ec10a36c",
   "metadata": {},
   "outputs": [
    {
     "name": "stdout",
     "output_type": "stream",
     "text": [
      "Total Cost: 11335228.98\n",
      "Total Impressions: 805428895\n",
      "Average Cost: 149.51366475848545\n",
      "Average Impressions: 10623.748845859604\n"
     ]
    }
   ],
   "source": [
    "# Calculate the sum (from 2015-02-04 till 2019-05-19) and mean of relevant metrics for the entire dataset\n",
    "total_cost = raw_df_cleaned['Cost'].sum()\n",
    "total_impressions = raw_df_cleaned['Impressions'].sum()\n",
    "average_cost = raw_df_cleaned['Cost'].mean()\n",
    "average_impressions = raw_df_cleaned['Impressions'].mean()\n",
    "\n",
    "# Print the calculated metrics\n",
    "print(\"Total Cost:\", total_cost)\n",
    "print(\"Total Impressions:\", total_impressions)\n",
    "print(\"Average Cost:\", average_cost)\n",
    "print(\"Average Impressions:\", average_impressions)\n",
    "\n",
    "# Store these metrics in variables for inclusion in the presentation deck\n",
    "metrics = {\n",
    "    'Total Cost': total_cost,\n",
    "    'Total Impressions': total_impressions,\n",
    "    'Average Cost': average_cost,\n",
    "    'Average Impressions': average_impressions\n",
    "}"
   ]
  },
  {
   "cell_type": "markdown",
   "id": "d46a2c61",
   "metadata": {},
   "source": [
    "### 10. Considering All Metrics at a Top-Line Aggregated Level and Drilling Down"
   ]
  },
  {
   "cell_type": "code",
   "execution_count": 31,
   "id": "00435f77",
   "metadata": {},
   "outputs": [
    {
     "name": "stdout",
     "output_type": "stream",
     "text": [
      "                Cost  Impressions\n",
      "Channel                          \n",
      "Display    365601.04    161966805\n",
      "Facebook  3235683.38    397456627\n",
      "PLA        942560.24     56465336\n",
      "PPC       6869060.13    191284563\n"
     ]
    }
   ],
   "source": [
    "# Join the 'raw_df' and 'campaign_lookup' DataFrames based on the 'Campaign' column\n",
    "merged_df = raw_df_cleaned.merge(campaign_df_cleaned, on='Campaign')\n",
    "\n",
    "# Group the merged DataFrame by the 'Channel' column and calculate metrics\n",
    "channel_group = merged_df.groupby('Channel').agg({'Cost': 'sum', 'Impressions': 'sum'})\n",
    "print(channel_group)"
   ]
  },
  {
   "cell_type": "code",
   "execution_count": 32,
   "id": "e7bb53fa",
   "metadata": {},
   "outputs": [
    {
     "data": {
      "text/html": [
       "<div>\n",
       "<style scoped>\n",
       "    .dataframe tbody tr th:only-of-type {\n",
       "        vertical-align: middle;\n",
       "    }\n",
       "\n",
       "    .dataframe tbody tr th {\n",
       "        vertical-align: top;\n",
       "    }\n",
       "\n",
       "    .dataframe thead th {\n",
       "        text-align: right;\n",
       "    }\n",
       "</style>\n",
       "<table border=\"1\" class=\"dataframe\">\n",
       "  <thead>\n",
       "    <tr style=\"text-align: right;\">\n",
       "      <th></th>\n",
       "      <th>Date</th>\n",
       "      <th>Campaign</th>\n",
       "      <th>Cost</th>\n",
       "      <th>Impressions</th>\n",
       "      <th>WeekNumber</th>\n",
       "      <th>Channel</th>\n",
       "      <th>Brand/Generic</th>\n",
       "      <th>Type</th>\n",
       "    </tr>\n",
       "  </thead>\n",
       "  <tbody>\n",
       "    <tr>\n",
       "      <th>0</th>\n",
       "      <td>2015-02-04</td>\n",
       "      <td>Branded Broad</td>\n",
       "      <td>8.49</td>\n",
       "      <td>4315</td>\n",
       "      <td>05</td>\n",
       "      <td>PPC</td>\n",
       "      <td>Brand</td>\n",
       "      <td>Prospecting</td>\n",
       "    </tr>\n",
       "    <tr>\n",
       "      <th>1</th>\n",
       "      <td>2015-02-04</td>\n",
       "      <td>Competitors Broad</td>\n",
       "      <td>23.25</td>\n",
       "      <td>5407</td>\n",
       "      <td>05</td>\n",
       "      <td>PPC</td>\n",
       "      <td>Generic</td>\n",
       "      <td>Prospecting</td>\n",
       "    </tr>\n",
       "    <tr>\n",
       "      <th>2</th>\n",
       "      <td>2015-02-05</td>\n",
       "      <td>Competitors Broad</td>\n",
       "      <td>4.56</td>\n",
       "      <td>3804</td>\n",
       "      <td>05</td>\n",
       "      <td>PPC</td>\n",
       "      <td>Generic</td>\n",
       "      <td>Prospecting</td>\n",
       "    </tr>\n",
       "    <tr>\n",
       "      <th>3</th>\n",
       "      <td>2015-02-04</td>\n",
       "      <td>X_B | UK | Exact</td>\n",
       "      <td>3.60</td>\n",
       "      <td>2203</td>\n",
       "      <td>05</td>\n",
       "      <td>PPC</td>\n",
       "      <td>Brand</td>\n",
       "      <td>Prospecting</td>\n",
       "    </tr>\n",
       "    <tr>\n",
       "      <th>4</th>\n",
       "      <td>2015-02-05</td>\n",
       "      <td>X_B | UK | Exact</td>\n",
       "      <td>0.74</td>\n",
       "      <td>496</td>\n",
       "      <td>05</td>\n",
       "      <td>PPC</td>\n",
       "      <td>Brand</td>\n",
       "      <td>Prospecting</td>\n",
       "    </tr>\n",
       "    <tr>\n",
       "      <th>...</th>\n",
       "      <td>...</td>\n",
       "      <td>...</td>\n",
       "      <td>...</td>\n",
       "      <td>...</td>\n",
       "      <td>...</td>\n",
       "      <td>...</td>\n",
       "      <td>...</td>\n",
       "      <td>...</td>\n",
       "    </tr>\n",
       "    <tr>\n",
       "      <th>77131</th>\n",
       "      <td>2019-05-14</td>\n",
       "      <td>Post: \"Did you know it's #MentalHealthAwarenes...</td>\n",
       "      <td>103.82</td>\n",
       "      <td>6084</td>\n",
       "      <td>19</td>\n",
       "      <td>Facebook</td>\n",
       "      <td>Generic</td>\n",
       "      <td>Prospecting</td>\n",
       "    </tr>\n",
       "    <tr>\n",
       "      <th>77132</th>\n",
       "      <td>2019-05-15</td>\n",
       "      <td>Post: \"Did you know it's #MentalHealthAwarenes...</td>\n",
       "      <td>19.87</td>\n",
       "      <td>1661</td>\n",
       "      <td>19</td>\n",
       "      <td>Facebook</td>\n",
       "      <td>Generic</td>\n",
       "      <td>Prospecting</td>\n",
       "    </tr>\n",
       "    <tr>\n",
       "      <th>77133</th>\n",
       "      <td>2019-05-14</td>\n",
       "      <td>Instagram post: if we opened a cafe, we suspec...</td>\n",
       "      <td>33.90</td>\n",
       "      <td>13819</td>\n",
       "      <td>19</td>\n",
       "      <td>Facebook</td>\n",
       "      <td>Generic</td>\n",
       "      <td>Prospecting</td>\n",
       "    </tr>\n",
       "    <tr>\n",
       "      <th>77134</th>\n",
       "      <td>2019-05-15</td>\n",
       "      <td>Instagram post: if we opened a cafe, we suspec...</td>\n",
       "      <td>51.03</td>\n",
       "      <td>19071</td>\n",
       "      <td>19</td>\n",
       "      <td>Facebook</td>\n",
       "      <td>Generic</td>\n",
       "      <td>Prospecting</td>\n",
       "    </tr>\n",
       "    <tr>\n",
       "      <th>77135</th>\n",
       "      <td>2019-05-16</td>\n",
       "      <td>Instagram post: if we opened a cafe, we suspec...</td>\n",
       "      <td>15.07</td>\n",
       "      <td>5363</td>\n",
       "      <td>19</td>\n",
       "      <td>Facebook</td>\n",
       "      <td>Generic</td>\n",
       "      <td>Prospecting</td>\n",
       "    </tr>\n",
       "  </tbody>\n",
       "</table>\n",
       "<p>77136 rows × 8 columns</p>\n",
       "</div>"
      ],
      "text/plain": [
       "            Date                                           Campaign    Cost  \\\n",
       "0     2015-02-04                                      Branded Broad    8.49   \n",
       "1     2015-02-04                                  Competitors Broad   23.25   \n",
       "2     2015-02-05                                  Competitors Broad    4.56   \n",
       "3     2015-02-04                                   X_B | UK | Exact    3.60   \n",
       "4     2015-02-05                                   X_B | UK | Exact    0.74   \n",
       "...          ...                                                ...     ...   \n",
       "77131 2019-05-14  Post: \"Did you know it's #MentalHealthAwarenes...  103.82   \n",
       "77132 2019-05-15  Post: \"Did you know it's #MentalHealthAwarenes...   19.87   \n",
       "77133 2019-05-14  Instagram post: if we opened a cafe, we suspec...   33.90   \n",
       "77134 2019-05-15  Instagram post: if we opened a cafe, we suspec...   51.03   \n",
       "77135 2019-05-16  Instagram post: if we opened a cafe, we suspec...   15.07   \n",
       "\n",
       "       Impressions WeekNumber   Channel Brand/Generic         Type  \n",
       "0             4315         05       PPC         Brand  Prospecting  \n",
       "1             5407         05       PPC       Generic  Prospecting  \n",
       "2             3804         05       PPC       Generic  Prospecting  \n",
       "3             2203         05       PPC         Brand  Prospecting  \n",
       "4              496         05       PPC         Brand  Prospecting  \n",
       "...            ...        ...       ...           ...          ...  \n",
       "77131         6084         19  Facebook       Generic  Prospecting  \n",
       "77132         1661         19  Facebook       Generic  Prospecting  \n",
       "77133        13819         19  Facebook       Generic  Prospecting  \n",
       "77134        19071         19  Facebook       Generic  Prospecting  \n",
       "77135         5363         19  Facebook       Generic  Prospecting  \n",
       "\n",
       "[77136 rows x 8 columns]"
      ]
     },
     "execution_count": 32,
     "metadata": {},
     "output_type": "execute_result"
    }
   ],
   "source": [
    "merged_df"
   ]
  },
  {
   "cell_type": "markdown",
   "id": "f99d72ee",
   "metadata": {},
   "source": [
    "### 11. Slicing the data based on other relevant dimensions"
   ]
  },
  {
   "cell_type": "code",
   "execution_count": 33,
   "id": "93030c63",
   "metadata": {},
   "outputs": [
    {
     "name": "stdout",
     "output_type": "stream",
     "text": [
      "                     Cost  Impressions\n",
      "Brand/Generic                         \n",
      "Brand          3354481.59     28869263\n",
      "Generic        8058423.20    778304068\n"
     ]
    }
   ],
   "source": [
    "# Group the merged DataFrame by the 'Brand/Generic' column and calculate metrics\n",
    "b_g_group = merged_df.groupby('Brand/Generic').agg({'Cost': 'sum', 'Impressions': 'sum'})\n",
    "print(b_g_group)"
   ]
  },
  {
   "cell_type": "code",
   "execution_count": 34,
   "id": "765f59ff",
   "metadata": {},
   "outputs": [
    {
     "name": "stdout",
     "output_type": "stream",
     "text": [
      "                   Cost  Impressions\n",
      "Type                                \n",
      "Prospecting  9776733.57    618369161\n",
      "Remarketing  1636171.22    188804170\n"
     ]
    }
   ],
   "source": [
    "# Group the merged DataFrame by the 'Type' column and calculate metrics\n",
    "type_group = merged_df.groupby('Type').agg({'Cost': 'sum', 'Impressions': 'sum'})\n",
    "print(type_group)"
   ]
  },
  {
   "cell_type": "code",
   "execution_count": null,
   "id": "8f385409",
   "metadata": {},
   "outputs": [],
   "source": []
  }
 ],
 "metadata": {
  "kernelspec": {
   "display_name": "Python 3",
   "language": "python",
   "name": "python3"
  },
  "language_info": {
   "codemirror_mode": {
    "name": "ipython",
    "version": 3
   },
   "file_extension": ".py",
   "mimetype": "text/x-python",
   "name": "python",
   "nbconvert_exporter": "python",
   "pygments_lexer": "ipython3",
   "version": "3.8.8"
  }
 },
 "nbformat": 4,
 "nbformat_minor": 5
}
